{
 "cells": [
  {
   "cell_type": "code",
   "execution_count": 1,
   "metadata": {},
   "outputs": [],
   "source": [
    "import pymixdee as pmd\n",
    "import pandas as pd"
   ]
  },
  {
   "cell_type": "markdown",
   "metadata": {},
   "source": [
    "# Generer des plans de mélanges"
   ]
  },
  {
   "cell_type": "markdown",
   "metadata": {},
   "source": [
    "## Créer une instance de la classe MixD\n",
    "en paramètres ajouter soit le nombre de facteurs, soit leur nom au sein d'une liste de strings"
   ]
  },
  {
   "cell_type": "code",
   "execution_count": 2,
   "metadata": {},
   "outputs": [],
   "source": [
    "md = pmd.MixD(factor_names=['x1', 'x2', 'x3', 'x4', 'x5'])"
   ]
  },
  {
   "cell_type": "markdown",
   "metadata": {},
   "source": [
    "## Determiner le nombre de points au centre désirés et le degré du modèle"
   ]
  },
  {
   "cell_type": "code",
   "execution_count": 3,
   "metadata": {},
   "outputs": [],
   "source": [
    "ndegree = 3\n",
    "ncenter = 2"
   ]
  },
  {
   "cell_type": "markdown",
   "metadata": {},
   "source": [
    "## Plan Simplexe Centroïd"
   ]
  },
  {
   "cell_type": "code",
   "execution_count": 4,
   "metadata": {},
   "outputs": [
    {
     "name": "stdout",
     "output_type": "stream",
     "text": [
      "number of experiments = 27\n"
     ]
    },
    {
     "data": {
      "text/html": [
       "<div>\n",
       "<style scoped>\n",
       "    .dataframe tbody tr th:only-of-type {\n",
       "        vertical-align: middle;\n",
       "    }\n",
       "\n",
       "    .dataframe tbody tr th {\n",
       "        vertical-align: top;\n",
       "    }\n",
       "\n",
       "    .dataframe thead th {\n",
       "        text-align: right;\n",
       "    }\n",
       "</style>\n",
       "<table border=\"1\" class=\"dataframe\">\n",
       "  <thead>\n",
       "    <tr style=\"text-align: right;\">\n",
       "      <th></th>\n",
       "      <th>x1</th>\n",
       "      <th>x2</th>\n",
       "      <th>x3</th>\n",
       "      <th>x4</th>\n",
       "      <th>x5</th>\n",
       "    </tr>\n",
       "  </thead>\n",
       "  <tbody>\n",
       "    <tr>\n",
       "      <th>0</th>\n",
       "      <td>1.000000</td>\n",
       "      <td>0.000000</td>\n",
       "      <td>0.000000</td>\n",
       "      <td>0.0</td>\n",
       "      <td>0.0</td>\n",
       "    </tr>\n",
       "    <tr>\n",
       "      <th>1</th>\n",
       "      <td>0.500000</td>\n",
       "      <td>0.500000</td>\n",
       "      <td>0.000000</td>\n",
       "      <td>0.0</td>\n",
       "      <td>0.0</td>\n",
       "    </tr>\n",
       "    <tr>\n",
       "      <th>2</th>\n",
       "      <td>0.333333</td>\n",
       "      <td>0.333333</td>\n",
       "      <td>0.333333</td>\n",
       "      <td>0.0</td>\n",
       "      <td>0.0</td>\n",
       "    </tr>\n",
       "    <tr>\n",
       "      <th>3</th>\n",
       "      <td>0.000000</td>\n",
       "      <td>0.000000</td>\n",
       "      <td>0.000000</td>\n",
       "      <td>0.0</td>\n",
       "      <td>1.0</td>\n",
       "    </tr>\n",
       "    <tr>\n",
       "      <th>4</th>\n",
       "      <td>0.000000</td>\n",
       "      <td>0.000000</td>\n",
       "      <td>0.000000</td>\n",
       "      <td>1.0</td>\n",
       "      <td>0.0</td>\n",
       "    </tr>\n",
       "  </tbody>\n",
       "</table>\n",
       "</div>"
      ],
      "text/plain": [
       "         x1        x2        x3   x4   x5\n",
       "0  1.000000  0.000000  0.000000  0.0  0.0\n",
       "1  0.500000  0.500000  0.000000  0.0  0.0\n",
       "2  0.333333  0.333333  0.333333  0.0  0.0\n",
       "3  0.000000  0.000000  0.000000  0.0  1.0\n",
       "4  0.000000  0.000000  0.000000  1.0  0.0"
      ]
     },
     "execution_count": 4,
     "metadata": {},
     "output_type": "execute_result"
    }
   ],
   "source": [
    "plan = md.simplex_centroid(ndegree = ndegree, ncenter = ncenter)\n",
    "plan.head()"
   ]
  },
  {
   "cell_type": "code",
   "execution_count": 5,
   "metadata": {},
   "outputs": [
    {
     "name": "stdout",
     "output_type": "stream",
     "text": [
      "number of experiments = 26\n",
      "12.5342122106705 45.149643705463184\n",
      "11.843116637802751 39.0698351468394\n",
      "12.074704334075312 42.766001896282965\n",
      "11.862663066429926 40.71071589750448\n",
      "13.77336657054226 53.25816614160173\n",
      "14.123119232024953 54.531286198690005\n",
      "11.918056995043843 39.08702860972943\n",
      "11.929698913205252 41.636750432123385\n",
      "11.918056995043843 39.08702860972943\n",
      "12.5342122106705 45.149643705463184\n",
      "14.18669075797104 55.06113282874491\n",
      "13.764349769432965 53.00441841454455\n",
      "11.968305935500823 41.972337163487694\n",
      "11.61568860739887 38.73840445269017\n",
      "14.171657900199794 54.782554439383546\n",
      "11.332657324882733 35.164755407170844\n",
      "13.885586340901986 53.90108064012569\n",
      "13.742352920915598 52.882103795281665\n",
      "11.112338617639914 30.93624945520821\n",
      "11.929698913205252 41.636750432123385\n",
      "11.929698913205252 41.636750432123385\n",
      "14.082301553961496 54.35801312089973\n",
      "13.874776541434025 53.87009417565984\n",
      "11.957002619937029 42.05390334572491\n",
      "11.843900976141217 40.71646418521576\n",
      "13.536181211336034 52.39139833154533\n",
      "14.0915598530096 54.28141364031462\n",
      "11.968305935500823 41.972337163487694\n",
      "13.764349769432965 53.00441841454455\n",
      "11.071558292943928 32.284510996724386\n",
      "11.681898257733781 39.52200728903841\n",
      "14.15180291209592 54.68648727759309\n",
      "14.171657900199795 54.782554439383546\n",
      "12.074704334075312 42.76600189628296\n",
      "14.091559853009603 54.28141364031462\n",
      "11.681898257733781 39.52200728903841\n",
      "14.017701115421573 53.864927323383945\n",
      "13.762844669915808 52.98695922169324\n",
      "14.171657900199795 54.782554439383546\n",
      "12.5342122106705 45.14964370546319\n",
      "13.764349769432965 53.00441841454455\n",
      "13.77336657054226 53.25816614160173\n",
      "13.764349769432965 53.00441841454455\n",
      "11.071558292943928 32.284510996724386\n",
      "14.123119232024953 54.53128619869001\n",
      "11.252952211726766 34.47589562140646\n",
      "10.810472914696815 30.22668035700182\n",
      "13.866855715577225 53.744199447999755\n",
      "13.762844669915808 52.98695922169324\n",
      "10.810472914696815 30.22668035700182\n"
     ]
    },
    {
     "data": {
      "image/png": "[encoded data removed]",
      "text/plain": [
       "<Figure size 432x288 with 1 Axes>"
      ]
     },
     "metadata": {
      "needs_background": "light"
     },
     "output_type": "display_data"
    }
   ],
   "source": [
    "plan = md.fedorov_algorithm(10, criterion='d', ntest=50)"
   ]
  },
  {
   "cell_type": "code",
   "execution_count": 6,
   "metadata": {},
   "outputs": [
    {
     "data": {
      "text/html": [
       "<div>\n",
       "<style scoped>\n",
       "    .dataframe tbody tr th:only-of-type {\n",
       "        vertical-align: middle;\n",
       "    }\n",
       "\n",
       "    .dataframe tbody tr th {\n",
       "        vertical-align: top;\n",
       "    }\n",
       "\n",
       "    .dataframe thead th {\n",
       "        text-align: right;\n",
       "    }\n",
       "</style>\n",
       "<table border=\"1\" class=\"dataframe\">\n",
       "  <thead>\n",
       "    <tr style=\"text-align: right;\">\n",
       "      <th></th>\n",
       "      <th>x1</th>\n",
       "      <th>x2</th>\n",
       "      <th>x3</th>\n",
       "      <th>x4</th>\n",
       "      <th>x5</th>\n",
       "    </tr>\n",
       "  </thead>\n",
       "  <tbody>\n",
       "    <tr>\n",
       "      <th>0</th>\n",
       "      <td>1.000000</td>\n",
       "      <td>0.000000</td>\n",
       "      <td>0.000000</td>\n",
       "      <td>0.0</td>\n",
       "      <td>0.0</td>\n",
       "    </tr>\n",
       "    <tr>\n",
       "      <th>1</th>\n",
       "      <td>0.500000</td>\n",
       "      <td>0.500000</td>\n",
       "      <td>0.000000</td>\n",
       "      <td>0.0</td>\n",
       "      <td>0.0</td>\n",
       "    </tr>\n",
       "    <tr>\n",
       "      <th>2</th>\n",
       "      <td>0.333333</td>\n",
       "      <td>0.333333</td>\n",
       "      <td>0.333333</td>\n",
       "      <td>0.0</td>\n",
       "      <td>0.0</td>\n",
       "    </tr>\n",
       "    <tr>\n",
       "      <th>3</th>\n",
       "      <td>0.000000</td>\n",
       "      <td>0.000000</td>\n",
       "      <td>0.000000</td>\n",
       "      <td>0.0</td>\n",
       "      <td>1.0</td>\n",
       "    </tr>\n",
       "    <tr>\n",
       "      <th>4</th>\n",
       "      <td>0.000000</td>\n",
       "      <td>0.000000</td>\n",
       "      <td>0.000000</td>\n",
       "      <td>1.0</td>\n",
       "      <td>0.0</td>\n",
       "    </tr>\n",
       "    <tr>\n",
       "      <th>5</th>\n",
       "      <td>0.000000</td>\n",
       "      <td>0.000000</td>\n",
       "      <td>1.000000</td>\n",
       "      <td>0.0</td>\n",
       "      <td>0.0</td>\n",
       "    </tr>\n",
       "    <tr>\n",
       "      <th>6</th>\n",
       "      <td>0.000000</td>\n",
       "      <td>1.000000</td>\n",
       "      <td>0.000000</td>\n",
       "      <td>0.0</td>\n",
       "      <td>0.0</td>\n",
       "    </tr>\n",
       "    <tr>\n",
       "      <th>7</th>\n",
       "      <td>0.000000</td>\n",
       "      <td>0.000000</td>\n",
       "      <td>0.000000</td>\n",
       "      <td>0.5</td>\n",
       "      <td>0.5</td>\n",
       "    </tr>\n",
       "    <tr>\n",
       "      <th>8</th>\n",
       "      <td>0.000000</td>\n",
       "      <td>0.000000</td>\n",
       "      <td>0.500000</td>\n",
       "      <td>0.0</td>\n",
       "      <td>0.5</td>\n",
       "    </tr>\n",
       "    <tr>\n",
       "      <th>9</th>\n",
       "      <td>0.000000</td>\n",
       "      <td>0.000000</td>\n",
       "      <td>0.500000</td>\n",
       "      <td>0.5</td>\n",
       "      <td>0.0</td>\n",
       "    </tr>\n",
       "  </tbody>\n",
       "</table>\n",
       "</div>"
      ],
      "text/plain": [
       "         x1        x2        x3   x4   x5\n",
       "0  1.000000  0.000000  0.000000  0.0  0.0\n",
       "1  0.500000  0.500000  0.000000  0.0  0.0\n",
       "2  0.333333  0.333333  0.333333  0.0  0.0\n",
       "3  0.000000  0.000000  0.000000  0.0  1.0\n",
       "4  0.000000  0.000000  0.000000  1.0  0.0\n",
       "5  0.000000  0.000000  1.000000  0.0  0.0\n",
       "6  0.000000  1.000000  0.000000  0.0  0.0\n",
       "7  0.000000  0.000000  0.000000  0.5  0.5\n",
       "8  0.000000  0.000000  0.500000  0.0  0.5\n",
       "9  0.000000  0.000000  0.500000  0.5  0.0"
      ]
     },
     "execution_count": 6,
     "metadata": {},
     "output_type": "execute_result"
    }
   ],
   "source": [
    "plan"
   ]
  },
  {
   "cell_type": "markdown",
   "metadata": {},
   "source": [
    "## Réseau de Scheffé"
   ]
  },
  {
   "cell_type": "code",
   "execution_count": 7,
   "metadata": {},
   "outputs": [
    {
     "name": "stdout",
     "output_type": "stream",
     "text": [
      "number of experiments = 27\n"
     ]
    },
    {
     "data": {
      "text/html": [
       "<div>\n",
       "<style scoped>\n",
       "    .dataframe tbody tr th:only-of-type {\n",
       "        vertical-align: middle;\n",
       "    }\n",
       "\n",
       "    .dataframe tbody tr th {\n",
       "        vertical-align: top;\n",
       "    }\n",
       "\n",
       "    .dataframe thead th {\n",
       "        text-align: right;\n",
       "    }\n",
       "</style>\n",
       "<table border=\"1\" class=\"dataframe\">\n",
       "  <thead>\n",
       "    <tr style=\"text-align: right;\">\n",
       "      <th></th>\n",
       "      <th>x1</th>\n",
       "      <th>x2</th>\n",
       "      <th>x3</th>\n",
       "      <th>x4</th>\n",
       "      <th>x5</th>\n",
       "    </tr>\n",
       "  </thead>\n",
       "  <tbody>\n",
       "    <tr>\n",
       "      <th>0</th>\n",
       "      <td>0.000000</td>\n",
       "      <td>1.000000</td>\n",
       "      <td>0.0</td>\n",
       "      <td>0.0</td>\n",
       "      <td>0.0</td>\n",
       "    </tr>\n",
       "    <tr>\n",
       "      <th>1</th>\n",
       "      <td>0.333333</td>\n",
       "      <td>0.666667</td>\n",
       "      <td>0.0</td>\n",
       "      <td>0.0</td>\n",
       "      <td>0.0</td>\n",
       "    </tr>\n",
       "    <tr>\n",
       "      <th>2</th>\n",
       "      <td>0.666667</td>\n",
       "      <td>0.333333</td>\n",
       "      <td>0.0</td>\n",
       "      <td>0.0</td>\n",
       "      <td>0.0</td>\n",
       "    </tr>\n",
       "    <tr>\n",
       "      <th>3</th>\n",
       "      <td>0.000000</td>\n",
       "      <td>0.000000</td>\n",
       "      <td>0.0</td>\n",
       "      <td>0.0</td>\n",
       "      <td>1.0</td>\n",
       "    </tr>\n",
       "    <tr>\n",
       "      <th>4</th>\n",
       "      <td>0.000000</td>\n",
       "      <td>0.000000</td>\n",
       "      <td>0.0</td>\n",
       "      <td>1.0</td>\n",
       "      <td>0.0</td>\n",
       "    </tr>\n",
       "  </tbody>\n",
       "</table>\n",
       "</div>"
      ],
      "text/plain": [
       "         x1        x2   x3   x4   x5\n",
       "0  0.000000  1.000000  0.0  0.0  0.0\n",
       "1  0.333333  0.666667  0.0  0.0  0.0\n",
       "2  0.666667  0.333333  0.0  0.0  0.0\n",
       "3  0.000000  0.000000  0.0  0.0  1.0\n",
       "4  0.000000  0.000000  0.0  1.0  0.0"
      ]
     },
     "execution_count": 7,
     "metadata": {},
     "output_type": "execute_result"
    }
   ],
   "source": [
    "plan = md.simplex_lattice(ndegree = ndegree, ncenter = ncenter)\n",
    "plan.head()"
   ]
  },
  {
   "cell_type": "markdown",
   "metadata": {},
   "source": [
    "## Plan selon distribution de Dirichlet"
   ]
  },
  {
   "cell_type": "code",
   "execution_count": 8,
   "metadata": {},
   "outputs": [
    {
     "data": {
      "text/html": [
       "<div>\n",
       "<style scoped>\n",
       "    .dataframe tbody tr th:only-of-type {\n",
       "        vertical-align: middle;\n",
       "    }\n",
       "\n",
       "    .dataframe tbody tr th {\n",
       "        vertical-align: top;\n",
       "    }\n",
       "\n",
       "    .dataframe thead th {\n",
       "        text-align: right;\n",
       "    }\n",
       "</style>\n",
       "<table border=\"1\" class=\"dataframe\">\n",
       "  <thead>\n",
       "    <tr style=\"text-align: right;\">\n",
       "      <th></th>\n",
       "      <th>x1</th>\n",
       "      <th>x2</th>\n",
       "      <th>x3</th>\n",
       "      <th>x4</th>\n",
       "      <th>x5</th>\n",
       "    </tr>\n",
       "  </thead>\n",
       "  <tbody>\n",
       "    <tr>\n",
       "      <th>0</th>\n",
       "      <td>0.709667</td>\n",
       "      <td>0.217147</td>\n",
       "      <td>0.005751</td>\n",
       "      <td>0.000334</td>\n",
       "      <td>0.067102</td>\n",
       "    </tr>\n",
       "    <tr>\n",
       "      <th>1</th>\n",
       "      <td>0.782576</td>\n",
       "      <td>0.152021</td>\n",
       "      <td>0.000568</td>\n",
       "      <td>0.000970</td>\n",
       "      <td>0.063865</td>\n",
       "    </tr>\n",
       "    <tr>\n",
       "      <th>2</th>\n",
       "      <td>0.749257</td>\n",
       "      <td>0.159354</td>\n",
       "      <td>0.007191</td>\n",
       "      <td>0.017264</td>\n",
       "      <td>0.066934</td>\n",
       "    </tr>\n",
       "    <tr>\n",
       "      <th>3</th>\n",
       "      <td>0.685190</td>\n",
       "      <td>0.177426</td>\n",
       "      <td>0.014004</td>\n",
       "      <td>0.015195</td>\n",
       "      <td>0.108186</td>\n",
       "    </tr>\n",
       "    <tr>\n",
       "      <th>4</th>\n",
       "      <td>0.675581</td>\n",
       "      <td>0.208984</td>\n",
       "      <td>0.000301</td>\n",
       "      <td>0.012393</td>\n",
       "      <td>0.102741</td>\n",
       "    </tr>\n",
       "  </tbody>\n",
       "</table>\n",
       "</div>"
      ],
      "text/plain": [
       "         x1        x2        x3        x4        x5\n",
       "0  0.709667  0.217147  0.005751  0.000334  0.067102\n",
       "1  0.782576  0.152021  0.000568  0.000970  0.063865\n",
       "2  0.749257  0.159354  0.007191  0.017264  0.066934\n",
       "3  0.685190  0.177426  0.014004  0.015195  0.108186\n",
       "4  0.675581  0.208984  0.000301  0.012393  0.102741"
      ]
     },
     "execution_count": 8,
     "metadata": {},
     "output_type": "execute_result"
    }
   ],
   "source": [
    "plan = md.dirichlet(25, alpha = (80,18,1,0,10))\n",
    "plan.head()"
   ]
  },
  {
   "cell_type": "markdown",
   "metadata": {},
   "source": [
    "# Quelques options utiles"
   ]
  },
  {
   "cell_type": "markdown",
   "metadata": {},
   "source": [
    "## Pour ajouter des contraintes basses"
   ]
  },
  {
   "cell_type": "code",
   "execution_count": 9,
   "metadata": {},
   "outputs": [
    {
     "data": {
      "text/html": [
       "<div>\n",
       "<style scoped>\n",
       "    .dataframe tbody tr th:only-of-type {\n",
       "        vertical-align: middle;\n",
       "    }\n",
       "\n",
       "    .dataframe tbody tr th {\n",
       "        vertical-align: top;\n",
       "    }\n",
       "\n",
       "    .dataframe thead th {\n",
       "        text-align: right;\n",
       "    }\n",
       "</style>\n",
       "<table border=\"1\" class=\"dataframe\">\n",
       "  <thead>\n",
       "    <tr style=\"text-align: right;\">\n",
       "      <th></th>\n",
       "      <th>x1</th>\n",
       "      <th>x2</th>\n",
       "      <th>x3</th>\n",
       "      <th>x4</th>\n",
       "      <th>x5</th>\n",
       "    </tr>\n",
       "  </thead>\n",
       "  <tbody>\n",
       "    <tr>\n",
       "      <th>0</th>\n",
       "      <td>0.383867</td>\n",
       "      <td>0.086859</td>\n",
       "      <td>0.002300</td>\n",
       "      <td>0.200134</td>\n",
       "      <td>0.326841</td>\n",
       "    </tr>\n",
       "    <tr>\n",
       "      <th>1</th>\n",
       "      <td>0.413030</td>\n",
       "      <td>0.060809</td>\n",
       "      <td>0.000227</td>\n",
       "      <td>0.200388</td>\n",
       "      <td>0.325546</td>\n",
       "    </tr>\n",
       "    <tr>\n",
       "      <th>2</th>\n",
       "      <td>0.399703</td>\n",
       "      <td>0.063742</td>\n",
       "      <td>0.002876</td>\n",
       "      <td>0.206906</td>\n",
       "      <td>0.326773</td>\n",
       "    </tr>\n",
       "    <tr>\n",
       "      <th>3</th>\n",
       "      <td>0.374076</td>\n",
       "      <td>0.070970</td>\n",
       "      <td>0.005601</td>\n",
       "      <td>0.206078</td>\n",
       "      <td>0.343274</td>\n",
       "    </tr>\n",
       "    <tr>\n",
       "      <th>4</th>\n",
       "      <td>0.370232</td>\n",
       "      <td>0.083593</td>\n",
       "      <td>0.000121</td>\n",
       "      <td>0.204957</td>\n",
       "      <td>0.341096</td>\n",
       "    </tr>\n",
       "  </tbody>\n",
       "</table>\n",
       "</div>"
      ],
      "text/plain": [
       "         x1        x2        x3        x4        x5\n",
       "0  0.383867  0.086859  0.002300  0.200134  0.326841\n",
       "1  0.413030  0.060809  0.000227  0.200388  0.325546\n",
       "2  0.399703  0.063742  0.002876  0.206906  0.326773\n",
       "3  0.374076  0.070970  0.005601  0.206078  0.343274\n",
       "4  0.370232  0.083593  0.000121  0.204957  0.341096"
      ]
     },
     "execution_count": 9,
     "metadata": {},
     "output_type": "execute_result"
    }
   ],
   "source": [
    "plan = md.add_lower_constraints(plan, [0.1, 0, 0, 0.2, 0.3])\n",
    "plan.head()"
   ]
  },
  {
   "cell_type": "markdown",
   "metadata": {},
   "source": [
    "## Randomiser les essais"
   ]
  },
  {
   "cell_type": "code",
   "execution_count": 10,
   "metadata": {},
   "outputs": [
    {
     "data": {
      "text/html": [
       "<div>\n",
       "<style scoped>\n",
       "    .dataframe tbody tr th:only-of-type {\n",
       "        vertical-align: middle;\n",
       "    }\n",
       "\n",
       "    .dataframe tbody tr th {\n",
       "        vertical-align: top;\n",
       "    }\n",
       "\n",
       "    .dataframe thead th {\n",
       "        text-align: right;\n",
       "    }\n",
       "</style>\n",
       "<table border=\"1\" class=\"dataframe\">\n",
       "  <thead>\n",
       "    <tr style=\"text-align: right;\">\n",
       "      <th></th>\n",
       "      <th>x1</th>\n",
       "      <th>x2</th>\n",
       "      <th>x3</th>\n",
       "      <th>x4</th>\n",
       "      <th>x5</th>\n",
       "    </tr>\n",
       "  </thead>\n",
       "  <tbody>\n",
       "    <tr>\n",
       "      <th>0</th>\n",
       "      <td>0.392380</td>\n",
       "      <td>0.074825</td>\n",
       "      <td>0.001371</td>\n",
       "      <td>0.212030</td>\n",
       "      <td>0.319394</td>\n",
       "    </tr>\n",
       "    <tr>\n",
       "      <th>1</th>\n",
       "      <td>0.413030</td>\n",
       "      <td>0.060809</td>\n",
       "      <td>0.000227</td>\n",
       "      <td>0.200388</td>\n",
       "      <td>0.325546</td>\n",
       "    </tr>\n",
       "    <tr>\n",
       "      <th>2</th>\n",
       "      <td>0.350451</td>\n",
       "      <td>0.106224</td>\n",
       "      <td>0.001391</td>\n",
       "      <td>0.200251</td>\n",
       "      <td>0.341683</td>\n",
       "    </tr>\n",
       "    <tr>\n",
       "      <th>3</th>\n",
       "      <td>0.376231</td>\n",
       "      <td>0.088145</td>\n",
       "      <td>0.007161</td>\n",
       "      <td>0.200348</td>\n",
       "      <td>0.328115</td>\n",
       "    </tr>\n",
       "    <tr>\n",
       "      <th>4</th>\n",
       "      <td>0.362103</td>\n",
       "      <td>0.086198</td>\n",
       "      <td>0.010860</td>\n",
       "      <td>0.201082</td>\n",
       "      <td>0.339757</td>\n",
       "    </tr>\n",
       "  </tbody>\n",
       "</table>\n",
       "</div>"
      ],
      "text/plain": [
       "         x1        x2        x3        x4        x5\n",
       "0  0.392380  0.074825  0.001371  0.212030  0.319394\n",
       "1  0.413030  0.060809  0.000227  0.200388  0.325546\n",
       "2  0.350451  0.106224  0.001391  0.200251  0.341683\n",
       "3  0.376231  0.088145  0.007161  0.200348  0.328115\n",
       "4  0.362103  0.086198  0.010860  0.201082  0.339757"
      ]
     },
     "execution_count": 10,
     "metadata": {},
     "output_type": "execute_result"
    }
   ],
   "source": [
    "plan = md.shuffle(plan)\n",
    "plan.head()"
   ]
  }
 ],
 "metadata": {
  "kernelspec": {
   "display_name": "Python 3.9.0 32-bit",
   "language": "python",
   "name": "python3"
  },
  "language_info": {
   "codemirror_mode": {
    "name": "ipython",
    "version": 3
   },
   "file_extension": ".py",
   "mimetype": "text/x-python",
   "name": "python",
   "nbconvert_exporter": "python",
   "pygments_lexer": "ipython3",
   "version": "3.9.0"
  },
  "orig_nbformat": 4,
  "vscode": {
   "interpreter": {
    "hash": "4a113fc46985be8cfb6b6ecae182bb047fac23af7d9480bf47a7f64500e196ff"
   }
  }
 },
 "nbformat": 4,
 "nbformat_minor": 2
}
